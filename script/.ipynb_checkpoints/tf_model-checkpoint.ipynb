{
 "cells": [
  {
   "cell_type": "code",
   "execution_count": 1,
   "metadata": {},
   "outputs": [],
   "source": [
    "import tensorflow as tf\n",
    "import numpy as np\n",
    "import pandas as pd\n",
    "from sklearn.model_selection import train_test_split\n",
    "import re\n",
    "import math"
   ]
  },
  {
   "cell_type": "code",
   "execution_count": 2,
   "metadata": {},
   "outputs": [],
   "source": [
    "def checkSpecial(url):\n",
    "    \"\"\"Returns number of special characters in string\"\"\"\n",
    "    regex = re.compile('[@_!#$%^&*()<>?|}{~]')\n",
    "    return len([c for c in url if regex.search(c)])\n",
    "\n",
    "def getNums(url):\n",
    "    \"\"\"Returns number of digits in string\"\"\"\n",
    "    return len([c for c in url if c.isdigit()])\n",
    "\n",
    "def entropy(url):\n",
    "    \"\"\"Returns entropy of string\"\"\"\n",
    "    s = url.strip()\n",
    "    prob = [float(s.count(c)) / len(s) for c in dict.fromkeys(list(s))]\n",
    "    ent = sum([(p * math.log(p) / math.log(2.0)) for p in prob])\n",
    "    return ent\n",
    "\n",
    "def numSubDomains(url):\n",
    "    \"\"\"Returns number of subdomains in the given URL\"\"\"\n",
    "    subdomains = url.split('http')[-1].split('//')[-1].split('/')\n",
    "    return len(subdomains)-1\n",
    "\n",
    "def feature_transform(df):\n",
    "    \"\"\"Featurizes the URL string into the data frame\"\"\"\n",
    "    df.insert(2, 'len_url', [len(url) for url in df['URL']])\n",
    "    df.insert(2, 'numerical', [getNums(url) for url in df['URL']])\n",
    "    df.insert(2, 'special', [checkSpecial(url) for url in df['URL']])\n",
    "    df.insert(2, 'hasPercent', [1 if ('%' in url) else 0 for url in df['URL']])\n",
    "    df.insert(2, 'entropy', [entropy(url) for url in df['URL']])\n",
    "    df.insert(2, 'numSD', [numSubDomains(url) for url in df['URL']])\n",
    "    del df['URL']"
   ]
  },
  {
   "cell_type": "code",
   "execution_count": 27,
   "metadata": {
    "tags": []
   },
   "outputs": [],
   "source": [
    "df = pd.read_csv('Phishing_Dataset.csv')\n",
    "feature_transform(df)\n",
    "\n",
    "y = df.pop('Label')\n",
    "\n",
    "x_train, x_test, y_train, y_test = train_test_split(df, y, test_size=0.2, random_state=0)\n",
    "\n",
    "def norm(x):\n",
    "  return (x - x.mean())/x.std()\n",
    "\n",
    "normed_train = norm(x_train)\n",
    "\n",
    "normed_test = norm(x_test)"
   ]
  },
  {
   "cell_type": "code",
   "execution_count": 28,
   "metadata": {},
   "outputs": [
    {
     "data": {
      "text/html": [
       "<div>\n",
       "<style scoped>\n",
       "    .dataframe tbody tr th:only-of-type {\n",
       "        vertical-align: middle;\n",
       "    }\n",
       "\n",
       "    .dataframe tbody tr th {\n",
       "        vertical-align: top;\n",
       "    }\n",
       "\n",
       "    .dataframe thead th {\n",
       "        text-align: right;\n",
       "    }\n",
       "</style>\n",
       "<table border=\"1\" class=\"dataframe\">\n",
       "  <thead>\n",
       "    <tr style=\"text-align: right;\">\n",
       "      <th></th>\n",
       "      <th>create_age(months)</th>\n",
       "      <th>expiry_age(months)</th>\n",
       "      <th>numSD</th>\n",
       "      <th>entropy</th>\n",
       "      <th>hasPercent</th>\n",
       "      <th>special</th>\n",
       "      <th>numerical</th>\n",
       "      <th>len_url</th>\n",
       "      <th>update_age(days)</th>\n",
       "    </tr>\n",
       "  </thead>\n",
       "  <tbody>\n",
       "    <tr>\n",
       "      <th>0</th>\n",
       "      <td>-1</td>\n",
       "      <td>-1</td>\n",
       "      <td>1</td>\n",
       "      <td>-4.612783</td>\n",
       "      <td>0</td>\n",
       "      <td>0</td>\n",
       "      <td>21</td>\n",
       "      <td>70</td>\n",
       "      <td>-1</td>\n",
       "    </tr>\n",
       "    <tr>\n",
       "      <th>1</th>\n",
       "      <td>212</td>\n",
       "      <td>16</td>\n",
       "      <td>1</td>\n",
       "      <td>-3.819114</td>\n",
       "      <td>0</td>\n",
       "      <td>0</td>\n",
       "      <td>0</td>\n",
       "      <td>36</td>\n",
       "      <td>663</td>\n",
       "    </tr>\n",
       "    <tr>\n",
       "      <th>2</th>\n",
       "      <td>-1</td>\n",
       "      <td>-1</td>\n",
       "      <td>5</td>\n",
       "      <td>-4.370385</td>\n",
       "      <td>0</td>\n",
       "      <td>0</td>\n",
       "      <td>21</td>\n",
       "      <td>73</td>\n",
       "      <td>-1</td>\n",
       "    </tr>\n",
       "    <tr>\n",
       "      <th>3</th>\n",
       "      <td>198</td>\n",
       "      <td>6</td>\n",
       "      <td>1</td>\n",
       "      <td>-3.695501</td>\n",
       "      <td>0</td>\n",
       "      <td>0</td>\n",
       "      <td>0</td>\n",
       "      <td>31</td>\n",
       "      <td>186</td>\n",
       "    </tr>\n",
       "    <tr>\n",
       "      <th>4</th>\n",
       "      <td>240</td>\n",
       "      <td>24</td>\n",
       "      <td>1</td>\n",
       "      <td>-3.760017</td>\n",
       "      <td>0</td>\n",
       "      <td>0</td>\n",
       "      <td>0</td>\n",
       "      <td>31</td>\n",
       "      <td>1684</td>\n",
       "    </tr>\n",
       "  </tbody>\n",
       "</table>\n",
       "</div>"
      ],
      "text/plain": [
       "   create_age(months)  expiry_age(months)  numSD   entropy  hasPercent  \\\n",
       "0                  -1                  -1      1 -4.612783           0   \n",
       "1                 212                  16      1 -3.819114           0   \n",
       "2                  -1                  -1      5 -4.370385           0   \n",
       "3                 198                   6      1 -3.695501           0   \n",
       "4                 240                  24      1 -3.760017           0   \n",
       "\n",
       "   special  numerical  len_url  update_age(days)  \n",
       "0        0         21       70                -1  \n",
       "1        0          0       36               663  \n",
       "2        0         21       73                -1  \n",
       "3        0          0       31               186  \n",
       "4        0          0       31              1684  "
      ]
     },
     "execution_count": 28,
     "metadata": {},
     "output_type": "execute_result"
    }
   ],
   "source": [
    "df.head()"
   ]
  },
  {
   "cell_type": "code",
   "execution_count": 17,
   "metadata": {},
   "outputs": [
    {
     "data": {
      "text/plain": [
       "array([ 22.       ,   2.       ,   4.       ,  -4.4475274,   0.       ,\n",
       "         0.       ,  17.       ,  64.       , 304.       ])"
      ]
     },
     "execution_count": 17,
     "metadata": {},
     "output_type": "execute_result"
    }
   ],
   "source": [
    "x_train.iloc[34].values"
   ]
  },
  {
   "cell_type": "code",
   "execution_count": 15,
   "metadata": {},
   "outputs": [
    {
     "data": {
      "text/plain": [
       "70      0\n",
       "3586    0\n",
       "1122    0\n",
       "4569    1\n",
       "34      1\n",
       "       ..\n",
       "1033    0\n",
       "3264    0\n",
       "1653    0\n",
       "2607    1\n",
       "2732    1\n",
       "Name: Label, Length: 3839, dtype: int64"
      ]
     },
     "execution_count": 15,
     "metadata": {},
     "output_type": "execute_result"
    }
   ],
   "source": [
    "y_train"
   ]
  },
  {
   "cell_type": "code",
   "execution_count": 4,
   "metadata": {
    "tags": []
   },
   "outputs": [],
   "source": [
    "def build_model():\n",
    "  model = tf.keras.Sequential([\n",
    "    tf.keras.layers.Dense(100, activation='relu', kernel_initializer='he_normal', input_shape=[len(x_train.columns)]),\n",
    "     tf.keras.layers.Dropout(0.2),\n",
    "    tf.keras.layers.Dense(50, activation='relu', kernel_initializer='he_normal'),\n",
    "    tf.keras.layers.Dense(25, activation='relu', kernel_initializer='he_normal'),\n",
    "     tf.keras.layers.Dropout(0.2),\n",
    "    tf.keras.layers.Dense(1, activation='sigmoid')\n",
    "  ])\n",
    "\n",
    "  model.compile(loss='binary_crossentropy',\n",
    "                optimizer='adam',\n",
    "                metrics=['accuracy'])\n",
    "  return model"
   ]
  },
  {
   "cell_type": "code",
   "execution_count": 5,
   "metadata": {
    "tags": []
   },
   "outputs": [
    {
     "name": "stdout",
     "output_type": "stream",
     "text": [
      "Model: \"sequential\"\n",
      "_________________________________________________________________\n",
      "Layer (type)                 Output Shape              Param #   \n",
      "=================================================================\n",
      "dense (Dense)                (None, 100)               1000      \n",
      "_________________________________________________________________\n",
      "dropout (Dropout)            (None, 100)               0         \n",
      "_________________________________________________________________\n",
      "dense_1 (Dense)              (None, 50)                5050      \n",
      "_________________________________________________________________\n",
      "dense_2 (Dense)              (None, 25)                1275      \n",
      "_________________________________________________________________\n",
      "dropout_1 (Dropout)          (None, 25)                0         \n",
      "_________________________________________________________________\n",
      "dense_3 (Dense)              (None, 1)                 26        \n",
      "=================================================================\n",
      "Total params: 7,351\n",
      "Trainable params: 7,351\n",
      "Non-trainable params: 0\n",
      "_________________________________________________________________\n"
     ]
    }
   ],
   "source": [
    "model = build_model()\n",
    "model.summary()"
   ]
  },
  {
   "cell_type": "code",
   "execution_count": 6,
   "metadata": {
    "tags": []
   },
   "outputs": [
    {
     "name": "stdout",
     "output_type": "stream",
     "text": [
      "Epoch 1/150\n",
      "96/96 [==============================] - 2s 14ms/step - loss: 0.6538 - accuracy: 0.7017 - val_loss: 0.2787 - val_accuracy: 0.8958\n",
      "Epoch 2/150\n",
      "96/96 [==============================] - 0s 4ms/step - loss: 0.3227 - accuracy: 0.8821 - val_loss: 0.2634 - val_accuracy: 0.8906\n",
      "Epoch 3/150\n",
      "96/96 [==============================] - 0s 3ms/step - loss: 0.2887 - accuracy: 0.8879 - val_loss: 0.2511 - val_accuracy: 0.9036\n",
      "Epoch 4/150\n",
      "96/96 [==============================] - 0s 4ms/step - loss: 0.2852 - accuracy: 0.8852 - val_loss: 0.2509 - val_accuracy: 0.8958\n",
      "Epoch 5/150\n",
      "96/96 [==============================] - 0s 2ms/step - loss: 0.2766 - accuracy: 0.8979 - val_loss: 0.2423 - val_accuracy: 0.8945\n",
      "Epoch 6/150\n",
      "96/96 [==============================] - 0s 2ms/step - loss: 0.2551 - accuracy: 0.9077 - val_loss: 0.2490 - val_accuracy: 0.8945\n",
      "Epoch 7/150\n",
      "96/96 [==============================] - 0s 3ms/step - loss: 0.2559 - accuracy: 0.9002 - val_loss: 0.2297 - val_accuracy: 0.9010\n",
      "Epoch 8/150\n",
      "96/96 [==============================] - 0s 2ms/step - loss: 0.2648 - accuracy: 0.8864 - val_loss: 0.2272 - val_accuracy: 0.9023\n",
      "Epoch 9/150\n",
      "96/96 [==============================] - 0s 2ms/step - loss: 0.2549 - accuracy: 0.8964 - val_loss: 0.2234 - val_accuracy: 0.9115\n",
      "Epoch 10/150\n",
      "96/96 [==============================] - 0s 2ms/step - loss: 0.2491 - accuracy: 0.9025 - val_loss: 0.2283 - val_accuracy: 0.9036\n",
      "Epoch 11/150\n",
      "96/96 [==============================] - 0s 2ms/step - loss: 0.2299 - accuracy: 0.9111 - val_loss: 0.2239 - val_accuracy: 0.9036\n",
      "Epoch 12/150\n",
      "96/96 [==============================] - 0s 2ms/step - loss: 0.2424 - accuracy: 0.9093 - val_loss: 0.2266 - val_accuracy: 0.9049\n",
      "Epoch 13/150\n",
      "96/96 [==============================] - 0s 2ms/step - loss: 0.2459 - accuracy: 0.8997 - val_loss: 0.2127 - val_accuracy: 0.9062\n",
      "Epoch 14/150\n",
      "96/96 [==============================] - 0s 3ms/step - loss: 0.2405 - accuracy: 0.8995 - val_loss: 0.2171 - val_accuracy: 0.9010\n",
      "Epoch 15/150\n",
      "96/96 [==============================] - 0s 4ms/step - loss: 0.2174 - accuracy: 0.9142 - val_loss: 0.2109 - val_accuracy: 0.9128\n",
      "Epoch 16/150\n",
      "96/96 [==============================] - 0s 2ms/step - loss: 0.2333 - accuracy: 0.9084 - val_loss: 0.2120 - val_accuracy: 0.9154\n",
      "Epoch 17/150\n",
      "96/96 [==============================] - 0s 2ms/step - loss: 0.2344 - accuracy: 0.9087 - val_loss: 0.2100 - val_accuracy: 0.9049\n",
      "Epoch 18/150\n",
      "96/96 [==============================] - 0s 2ms/step - loss: 0.2442 - accuracy: 0.8977 - val_loss: 0.2085 - val_accuracy: 0.9076\n",
      "Epoch 19/150\n",
      "96/96 [==============================] - 0s 2ms/step - loss: 0.2147 - accuracy: 0.9159 - val_loss: 0.2018 - val_accuracy: 0.9128\n",
      "Epoch 20/150\n",
      "96/96 [==============================] - 0s 2ms/step - loss: 0.2341 - accuracy: 0.9040 - val_loss: 0.2017 - val_accuracy: 0.9089\n",
      "Epoch 21/150\n",
      "96/96 [==============================] - 0s 2ms/step - loss: 0.2219 - accuracy: 0.9111 - val_loss: 0.2046 - val_accuracy: 0.9141\n",
      "Epoch 22/150\n",
      "96/96 [==============================] - 0s 2ms/step - loss: 0.2117 - accuracy: 0.9171 - val_loss: 0.2027 - val_accuracy: 0.9141\n",
      "Epoch 23/150\n",
      "96/96 [==============================] - 0s 2ms/step - loss: 0.2135 - accuracy: 0.9057 - val_loss: 0.2018 - val_accuracy: 0.9049\n",
      "Epoch 24/150\n",
      "96/96 [==============================] - 0s 2ms/step - loss: 0.2107 - accuracy: 0.9195 - val_loss: 0.2036 - val_accuracy: 0.9128\n",
      "Epoch 25/150\n",
      "96/96 [==============================] - 0s 3ms/step - loss: 0.2084 - accuracy: 0.9211 - val_loss: 0.2048 - val_accuracy: 0.9102\n",
      "Epoch 26/150\n",
      "96/96 [==============================] - 1s 5ms/step - loss: 0.2100 - accuracy: 0.9187 - val_loss: 0.2082 - val_accuracy: 0.9089\n",
      "Epoch 27/150\n",
      "96/96 [==============================] - 0s 4ms/step - loss: 0.2298 - accuracy: 0.9127 - val_loss: 0.2036 - val_accuracy: 0.9062\n",
      "Epoch 28/150\n",
      "96/96 [==============================] - 0s 2ms/step - loss: 0.1992 - accuracy: 0.9233 - val_loss: 0.1992 - val_accuracy: 0.9193\n"
     ]
    }
   ],
   "source": [
    "callback = tf.keras.callbacks.EarlyStopping(monitor='loss', min_delta=0.001, patience=5)\n",
    "\n",
    "history = model.fit(normed_train, y_train, epochs=150, batch_size=32, validation_split=0.2, callbacks=[callback])"
   ]
  },
  {
   "cell_type": "code",
   "execution_count": 7,
   "metadata": {
    "tags": []
   },
   "outputs": [
    {
     "name": "stdout",
     "output_type": "stream",
     "text": [
      "30/30 [==============================] - 0s 2ms/step - loss: 0.1987 - accuracy: 0.9198\n"
     ]
    }
   ],
   "source": [
    "score = model.evaluate(normed_test, y_test)\n",
    "\n",
    "# test_predictions = model.predict(normed_test).flatten()\n",
    "# predictions = [int(round(value)) for value in test_predictions]\n",
    "# print(predictions)"
   ]
  },
  {
   "cell_type": "code",
   "execution_count": 13,
   "metadata": {},
   "outputs": [
    {
     "data": {
      "text/plain": [
       "array([[0.]], dtype=float32)"
      ]
     },
     "execution_count": 13,
     "metadata": {},
     "output_type": "execute_result"
    }
   ],
   "source": [
    "model.predict([[163.        ,   5.        ,   1.        ,  -3.36888407,\n",
    "         0.        ,   0.        ,   0.        ,  25.        ,\n",
    "       248.        ]])"
   ]
  },
  {
   "cell_type": "code",
   "execution_count": 18,
   "metadata": {},
   "outputs": [
    {
     "data": {
      "text/plain": [
       "array([[1.]], dtype=float32)"
      ]
     },
     "execution_count": 18,
     "metadata": {},
     "output_type": "execute_result"
    }
   ],
   "source": [
    "model.predict([[ 22.       ,   2.       ,   4.       ,  -4.4475274,   0.       ,\n",
    "         0.       ,  17.       ,  64.       , 304.       ]])"
   ]
  }
 ],
 "metadata": {
  "kernelspec": {
   "display_name": "Python 3",
   "language": "python",
   "name": "python3"
  },
  "language_info": {
   "codemirror_mode": {
    "name": "ipython",
    "version": 3
   },
   "file_extension": ".py",
   "mimetype": "text/x-python",
   "name": "python",
   "nbconvert_exporter": "python",
   "pygments_lexer": "ipython3",
   "version": "3.7.6"
  }
 },
 "nbformat": 4,
 "nbformat_minor": 2
}
