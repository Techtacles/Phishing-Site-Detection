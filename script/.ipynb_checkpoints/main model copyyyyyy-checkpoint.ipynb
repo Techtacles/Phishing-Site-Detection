{
 "cells": [
  {
   "cell_type": "code",
   "execution_count": 93,
   "metadata": {},
   "outputs": [],
   "source": [
    "import tensorflow as tf\n",
    "import numpy as np\n",
    "import pandas as pd\n",
    "from sklearn.model_selection import train_test_split\n",
    "import re\n",
    "import math\n",
    "import pickle\n",
    "from sklearn.preprocessing import MinMaxScaler\n",
    "import pickle"
   ]
  },
  {
   "cell_type": "code",
   "execution_count": 94,
   "metadata": {},
   "outputs": [],
   "source": [
    "def checkSpecial(url):\n",
    "    \"\"\"Returns number of special characters in string\"\"\"\n",
    "    regex = re.compile('[@_!#$%^&*()<>?|}{~]')\n",
    "    return len([c for c in url if regex.search(c)])\n",
    "\n",
    "def getNums(url):\n",
    "    \"\"\"Returns number of digits in string\"\"\"\n",
    "    return len([c for c in url if c.isdigit()])\n",
    "\n",
    "def entropy(url):\n",
    "    \"\"\"Returns entropy of string\"\"\"\n",
    "    s = url.strip()\n",
    "    prob = [float(s.count(c)) / len(s) for c in dict.fromkeys(list(s))]\n",
    "    ent = sum([(p * math.log(p) / math.log(2.0)) for p in prob])\n",
    "    return ent\n",
    "\n",
    "def numSubDomains(url):\n",
    "    \"\"\"Returns number of subdomains in the given URL\"\"\"\n",
    "    subdomains = url.split('http')[-1].split('//')[-1].split('/')\n",
    "    return len(subdomains)-1\n",
    "\n",
    "def feature_transform(df):\n",
    "    \"\"\"Featurizes the URL string into the data frame\"\"\"\n",
    "    df.insert(2, 'len_url', [len(url) for url in df['URL']])\n",
    "    df.insert(2, 'numerical', [getNums(url) for url in df['URL']])\n",
    "    df.insert(2, 'special', [checkSpecial(url) for url in df['URL']])\n",
    "    df.insert(2, 'hasPercent', [1 if ('%' in url) else 0 for url in df['URL']])\n",
    "    df.insert(2, 'entropy', [entropy(url) for url in df['URL']])\n",
    "    df.insert(2, 'numSD', [numSubDomains(url) for url in df['URL']])\n",
    "    del df['URL']"
   ]
  },
  {
   "cell_type": "code",
   "execution_count": 95,
   "metadata": {},
   "outputs": [],
   "source": [
    "df = pd.read_csv('Phishing_Dataset.csv')\n"
   ]
  },
  {
   "cell_type": "code",
   "execution_count": 96,
   "metadata": {},
   "outputs": [
    {
     "data": {
      "text/html": [
       "<div>\n",
       "<style scoped>\n",
       "    .dataframe tbody tr th:only-of-type {\n",
       "        vertical-align: middle;\n",
       "    }\n",
       "\n",
       "    .dataframe tbody tr th {\n",
       "        vertical-align: top;\n",
       "    }\n",
       "\n",
       "    .dataframe thead th {\n",
       "        text-align: right;\n",
       "    }\n",
       "</style>\n",
       "<table border=\"1\" class=\"dataframe\">\n",
       "  <thead>\n",
       "    <tr style=\"text-align: right;\">\n",
       "      <th></th>\n",
       "      <th>create_age(months)</th>\n",
       "      <th>expiry_age(months)</th>\n",
       "      <th>update_age(days)</th>\n",
       "      <th>URL</th>\n",
       "      <th>Label</th>\n",
       "    </tr>\n",
       "  </thead>\n",
       "  <tbody>\n",
       "    <tr>\n",
       "      <th>0</th>\n",
       "      <td>-1</td>\n",
       "      <td>-1</td>\n",
       "      <td>-1</td>\n",
       "      <td>http://account-google-com.ngate.my/c44cca40176...</td>\n",
       "      <td>1</td>\n",
       "    </tr>\n",
       "    <tr>\n",
       "      <th>1</th>\n",
       "      <td>212</td>\n",
       "      <td>16</td>\n",
       "      <td>663</td>\n",
       "      <td>http://www.coffeespecialties.com/...</td>\n",
       "      <td>0</td>\n",
       "    </tr>\n",
       "    <tr>\n",
       "      <th>2</th>\n",
       "      <td>-1</td>\n",
       "      <td>-1</td>\n",
       "      <td>-1</td>\n",
       "      <td>http://black.pk/wp-content/2013/04/bp.postale/...</td>\n",
       "      <td>1</td>\n",
       "    </tr>\n",
       "    <tr>\n",
       "      <th>3</th>\n",
       "      <td>198</td>\n",
       "      <td>6</td>\n",
       "      <td>186</td>\n",
       "      <td>http://atomicsoda.com/manutd...</td>\n",
       "      <td>0</td>\n",
       "    </tr>\n",
       "    <tr>\n",
       "      <th>4</th>\n",
       "      <td>240</td>\n",
       "      <td>24</td>\n",
       "      <td>1684</td>\n",
       "      <td>http://bostoncoffeecake.com/...</td>\n",
       "      <td>0</td>\n",
       "    </tr>\n",
       "  </tbody>\n",
       "</table>\n",
       "</div>"
      ],
      "text/plain": [
       "   create_age(months)  expiry_age(months)  update_age(days)  \\\n",
       "0                  -1                  -1                -1   \n",
       "1                 212                  16               663   \n",
       "2                  -1                  -1                -1   \n",
       "3                 198                   6               186   \n",
       "4                 240                  24              1684   \n",
       "\n",
       "                                                 URL  Label  \n",
       "0  http://account-google-com.ngate.my/c44cca40176...      1  \n",
       "1               http://www.coffeespecialties.com/...      0  \n",
       "2  http://black.pk/wp-content/2013/04/bp.postale/...      1  \n",
       "3                    http://atomicsoda.com/manutd...      0  \n",
       "4                    http://bostoncoffeecake.com/...      0  "
      ]
     },
     "execution_count": 96,
     "metadata": {},
     "output_type": "execute_result"
    }
   ],
   "source": [
    "df.head()"
   ]
  },
  {
   "cell_type": "code",
   "execution_count": 97,
   "metadata": {},
   "outputs": [],
   "source": [
    "feature_transform(df)"
   ]
  },
  {
   "cell_type": "code",
   "execution_count": 98,
   "metadata": {},
   "outputs": [],
   "source": [
    "new_df=df.drop([\"create_age(months)\",\"expiry_age(months)\",\"update_age(days)\",\"Label\"],axis=\"columns\")"
   ]
  },
  {
   "cell_type": "code",
   "execution_count": 99,
   "metadata": {},
   "outputs": [],
   "source": [
    "new_df=new_df[[\"len_url\",\"numerical\",\"special\",\"hasPercent\",\"entropy\",\"numSD\"]]"
   ]
  },
  {
   "cell_type": "code",
   "execution_count": 100,
   "metadata": {},
   "outputs": [
    {
     "data": {
      "text/html": [
       "<div>\n",
       "<style scoped>\n",
       "    .dataframe tbody tr th:only-of-type {\n",
       "        vertical-align: middle;\n",
       "    }\n",
       "\n",
       "    .dataframe tbody tr th {\n",
       "        vertical-align: top;\n",
       "    }\n",
       "\n",
       "    .dataframe thead th {\n",
       "        text-align: right;\n",
       "    }\n",
       "</style>\n",
       "<table border=\"1\" class=\"dataframe\">\n",
       "  <thead>\n",
       "    <tr style=\"text-align: right;\">\n",
       "      <th></th>\n",
       "      <th>len_url</th>\n",
       "      <th>numerical</th>\n",
       "      <th>special</th>\n",
       "      <th>hasPercent</th>\n",
       "      <th>entropy</th>\n",
       "      <th>numSD</th>\n",
       "    </tr>\n",
       "  </thead>\n",
       "  <tbody>\n",
       "    <tr>\n",
       "      <th>0</th>\n",
       "      <td>70</td>\n",
       "      <td>21</td>\n",
       "      <td>0</td>\n",
       "      <td>0</td>\n",
       "      <td>-4.612783</td>\n",
       "      <td>1</td>\n",
       "    </tr>\n",
       "    <tr>\n",
       "      <th>1</th>\n",
       "      <td>36</td>\n",
       "      <td>0</td>\n",
       "      <td>0</td>\n",
       "      <td>0</td>\n",
       "      <td>-3.819114</td>\n",
       "      <td>1</td>\n",
       "    </tr>\n",
       "    <tr>\n",
       "      <th>2</th>\n",
       "      <td>73</td>\n",
       "      <td>21</td>\n",
       "      <td>0</td>\n",
       "      <td>0</td>\n",
       "      <td>-4.370385</td>\n",
       "      <td>5</td>\n",
       "    </tr>\n",
       "    <tr>\n",
       "      <th>3</th>\n",
       "      <td>31</td>\n",
       "      <td>0</td>\n",
       "      <td>0</td>\n",
       "      <td>0</td>\n",
       "      <td>-3.695501</td>\n",
       "      <td>1</td>\n",
       "    </tr>\n",
       "    <tr>\n",
       "      <th>4</th>\n",
       "      <td>31</td>\n",
       "      <td>0</td>\n",
       "      <td>0</td>\n",
       "      <td>0</td>\n",
       "      <td>-3.760017</td>\n",
       "      <td>1</td>\n",
       "    </tr>\n",
       "    <tr>\n",
       "      <th>...</th>\n",
       "      <td>...</td>\n",
       "      <td>...</td>\n",
       "      <td>...</td>\n",
       "      <td>...</td>\n",
       "      <td>...</td>\n",
       "      <td>...</td>\n",
       "    </tr>\n",
       "    <tr>\n",
       "      <th>4794</th>\n",
       "      <td>73</td>\n",
       "      <td>19</td>\n",
       "      <td>1</td>\n",
       "      <td>0</td>\n",
       "      <td>-4.742582</td>\n",
       "      <td>4</td>\n",
       "    </tr>\n",
       "    <tr>\n",
       "      <th>4795</th>\n",
       "      <td>26</td>\n",
       "      <td>0</td>\n",
       "      <td>0</td>\n",
       "      <td>0</td>\n",
       "      <td>-3.507380</td>\n",
       "      <td>1</td>\n",
       "    </tr>\n",
       "    <tr>\n",
       "      <th>4796</th>\n",
       "      <td>73</td>\n",
       "      <td>7</td>\n",
       "      <td>0</td>\n",
       "      <td>0</td>\n",
       "      <td>-4.579566</td>\n",
       "      <td>4</td>\n",
       "    </tr>\n",
       "    <tr>\n",
       "      <th>4797</th>\n",
       "      <td>73</td>\n",
       "      <td>4</td>\n",
       "      <td>0</td>\n",
       "      <td>0</td>\n",
       "      <td>-4.441882</td>\n",
       "      <td>6</td>\n",
       "    </tr>\n",
       "    <tr>\n",
       "      <th>4798</th>\n",
       "      <td>36</td>\n",
       "      <td>0</td>\n",
       "      <td>0</td>\n",
       "      <td>0</td>\n",
       "      <td>-3.805497</td>\n",
       "      <td>1</td>\n",
       "    </tr>\n",
       "  </tbody>\n",
       "</table>\n",
       "<p>4799 rows × 6 columns</p>\n",
       "</div>"
      ],
      "text/plain": [
       "      len_url  numerical  special  hasPercent   entropy  numSD\n",
       "0          70         21        0           0 -4.612783      1\n",
       "1          36          0        0           0 -3.819114      1\n",
       "2          73         21        0           0 -4.370385      5\n",
       "3          31          0        0           0 -3.695501      1\n",
       "4          31          0        0           0 -3.760017      1\n",
       "...       ...        ...      ...         ...       ...    ...\n",
       "4794       73         19        1           0 -4.742582      4\n",
       "4795       26          0        0           0 -3.507380      1\n",
       "4796       73          7        0           0 -4.579566      4\n",
       "4797       73          4        0           0 -4.441882      6\n",
       "4798       36          0        0           0 -3.805497      1\n",
       "\n",
       "[4799 rows x 6 columns]"
      ]
     },
     "execution_count": 100,
     "metadata": {},
     "output_type": "execute_result"
    }
   ],
   "source": [
    "new_df"
   ]
  },
  {
   "cell_type": "code",
   "execution_count": 101,
   "metadata": {
    "tags": []
   },
   "outputs": [],
   "source": [
    "\n",
    "y = df.pop('Label')\n",
    "\n",
    "x_train, x_test, y_train, y_test = train_test_split(new_df, y, test_size=0.2, random_state=0)\n",
    "\n",
    "mm=MinMaxScaler().fit(x_train) \n",
    "def norm(x):\n",
    "    return mm.transform(x)\n",
    "normed_train = norm(x_train)\n",
    "normed_test = norm(x_test)"
   ]
  },
  {
   "cell_type": "code",
   "execution_count": 102,
   "metadata": {},
   "outputs": [
    {
     "data": {
      "text/plain": [
       "(3839, 6)"
      ]
     },
     "execution_count": 102,
     "metadata": {},
     "output_type": "execute_result"
    }
   ],
   "source": [
    "x_train.shape"
   ]
  },
  {
   "cell_type": "code",
   "execution_count": 103,
   "metadata": {},
   "outputs": [
    {
     "data": {
      "text/plain": [
       "array([64.       , 17.       ,  0.       ,  0.       , -4.4475274,\n",
       "        4.       ])"
      ]
     },
     "execution_count": 103,
     "metadata": {},
     "output_type": "execute_result"
    }
   ],
   "source": [
    "x_train.iloc[34].values\n"
   ]
  },
  {
   "cell_type": "code",
   "execution_count": 104,
   "metadata": {},
   "outputs": [
    {
     "data": {
      "text/plain": [
       "array([[0.08888889, 0.        , 0.        , 0.        , 0.85401493,\n",
       "        0.11111111],\n",
       "       [0.22222222, 0.        , 0.        , 0.        , 0.6826271 ,\n",
       "        0.11111111],\n",
       "       [0.24444444, 0.        , 0.        , 0.        , 0.59180928,\n",
       "        0.11111111],\n",
       "       ...,\n",
       "       [0.15555556, 0.        , 0.        , 0.        , 0.62063005,\n",
       "        0.11111111],\n",
       "       [0.46666667, 0.54054054, 0.        , 0.        , 0.31694197,\n",
       "        0.22222222],\n",
       "       [0.62222222, 0.05405405, 0.0625    , 0.        , 0.24041182,\n",
       "        0.44444444]])"
      ]
     },
     "execution_count": 104,
     "metadata": {},
     "output_type": "execute_result"
    }
   ],
   "source": [
    "normed_train"
   ]
  },
  {
   "cell_type": "code",
   "execution_count": 105,
   "metadata": {
    "tags": []
   },
   "outputs": [],
   "source": [
    "def build_model():\n",
    "    tf.random.set_seed(42)  \n",
    "    model = tf.keras.Sequential([\n",
    "    tf.keras.layers.Dense(100, activation='relu', kernel_initializer='he_normal', input_shape=[len(x_train.columns)]),\n",
    "     tf.keras.layers.Dropout(0.2),\n",
    "    tf.keras.layers.Dense(50, activation='relu', kernel_initializer='he_normal'),\n",
    "    tf.keras.layers.Dense(25, activation='relu', kernel_initializer='he_normal'),\n",
    "     tf.keras.layers.Dropout(0.2),\n",
    "    tf.keras.layers.Dense(1, activation='sigmoid')\n",
    "  ])\n",
    "\n",
    "    model.compile(loss='binary_crossentropy',\n",
    "                optimizer='adam',\n",
    "                metrics=['accuracy'])\n",
    "    return model"
   ]
  },
  {
   "cell_type": "code",
   "execution_count": 106,
   "metadata": {
    "tags": []
   },
   "outputs": [
    {
     "name": "stdout",
     "output_type": "stream",
     "text": [
      "Model: \"sequential_1\"\n",
      "_________________________________________________________________\n",
      "Layer (type)                 Output Shape              Param #   \n",
      "=================================================================\n",
      "dense_4 (Dense)              (None, 100)               700       \n",
      "_________________________________________________________________\n",
      "dropout_2 (Dropout)          (None, 100)               0         \n",
      "_________________________________________________________________\n",
      "dense_5 (Dense)              (None, 50)                5050      \n",
      "_________________________________________________________________\n",
      "dense_6 (Dense)              (None, 25)                1275      \n",
      "_________________________________________________________________\n",
      "dropout_3 (Dropout)          (None, 25)                0         \n",
      "_________________________________________________________________\n",
      "dense_7 (Dense)              (None, 1)                 26        \n",
      "=================================================================\n",
      "Total params: 7,051\n",
      "Trainable params: 7,051\n",
      "Non-trainable params: 0\n",
      "_________________________________________________________________\n"
     ]
    }
   ],
   "source": [
    "model = build_model()\n",
    "model.summary()"
   ]
  },
  {
   "cell_type": "code",
   "execution_count": 107,
   "metadata": {
    "scrolled": true,
    "tags": []
   },
   "outputs": [
    {
     "name": "stdout",
     "output_type": "stream",
     "text": [
      "Epoch 1/150\n",
      "96/96 [==============================] - 1s 3ms/step - loss: 0.5511 - accuracy: 0.7038 - val_loss: 0.3481 - val_accuracy: 0.8542\n",
      "Epoch 2/150\n",
      "96/96 [==============================] - 0s 2ms/step - loss: 0.4045 - accuracy: 0.8360 - val_loss: 0.3499 - val_accuracy: 0.8698\n",
      "Epoch 3/150\n",
      "96/96 [==============================] - 0s 3ms/step - loss: 0.4011 - accuracy: 0.8423 - val_loss: 0.3296 - val_accuracy: 0.8620\n",
      "Epoch 4/150\n",
      "96/96 [==============================] - 0s 2ms/step - loss: 0.3641 - accuracy: 0.8559 - val_loss: 0.3251 - val_accuracy: 0.8594\n",
      "Epoch 5/150\n",
      "96/96 [==============================] - 0s 2ms/step - loss: 0.3585 - accuracy: 0.8627 - val_loss: 0.3216 - val_accuracy: 0.8633\n",
      "Epoch 6/150\n",
      "96/96 [==============================] - 0s 2ms/step - loss: 0.3656 - accuracy: 0.8559 - val_loss: 0.3298 - val_accuracy: 0.8672\n",
      "Epoch 7/150\n",
      "96/96 [==============================] - 0s 2ms/step - loss: 0.3688 - accuracy: 0.8540 - val_loss: 0.3186 - val_accuracy: 0.8659\n",
      "Epoch 8/150\n",
      "96/96 [==============================] - 0s 2ms/step - loss: 0.3459 - accuracy: 0.8669 - val_loss: 0.3199 - val_accuracy: 0.8659\n",
      "Epoch 9/150\n",
      "96/96 [==============================] - 0s 2ms/step - loss: 0.3593 - accuracy: 0.8557 - val_loss: 0.3162 - val_accuracy: 0.8659\n",
      "Epoch 10/150\n",
      "96/96 [==============================] - 0s 2ms/step - loss: 0.3450 - accuracy: 0.8664 - val_loss: 0.3135 - val_accuracy: 0.8685\n",
      "Epoch 11/150\n",
      "96/96 [==============================] - 0s 2ms/step - loss: 0.3352 - accuracy: 0.8720 - val_loss: 0.3130 - val_accuracy: 0.8685\n",
      "Epoch 12/150\n",
      "96/96 [==============================] - 0s 2ms/step - loss: 0.3396 - accuracy: 0.8585 - val_loss: 0.3108 - val_accuracy: 0.8711\n",
      "Epoch 13/150\n",
      "96/96 [==============================] - 0s 2ms/step - loss: 0.3473 - accuracy: 0.8655 - val_loss: 0.3127 - val_accuracy: 0.8672\n",
      "Epoch 14/150\n",
      "96/96 [==============================] - 0s 1ms/step - loss: 0.3431 - accuracy: 0.8676 - val_loss: 0.3218 - val_accuracy: 0.8685\n",
      "Epoch 15/150\n",
      "96/96 [==============================] - 0s 2ms/step - loss: 0.3781 - accuracy: 0.8451 - val_loss: 0.3079 - val_accuracy: 0.8724\n",
      "Epoch 16/150\n",
      "96/96 [==============================] - 0s 1ms/step - loss: 0.3413 - accuracy: 0.8630 - val_loss: 0.3084 - val_accuracy: 0.8685\n",
      "Epoch 17/150\n",
      "96/96 [==============================] - 0s 2ms/step - loss: 0.3577 - accuracy: 0.8653 - val_loss: 0.3081 - val_accuracy: 0.8711\n",
      "Epoch 18/150\n",
      "96/96 [==============================] - 0s 2ms/step - loss: 0.3281 - accuracy: 0.8651 - val_loss: 0.3064 - val_accuracy: 0.8711\n",
      "Epoch 19/150\n",
      "96/96 [==============================] - 0s 2ms/step - loss: 0.3372 - accuracy: 0.8645 - val_loss: 0.3062 - val_accuracy: 0.8724\n",
      "Epoch 20/150\n",
      "96/96 [==============================] - 0s 2ms/step - loss: 0.3288 - accuracy: 0.8701 - val_loss: 0.3052 - val_accuracy: 0.8724\n",
      "Epoch 21/150\n",
      "96/96 [==============================] - 0s 2ms/step - loss: 0.3348 - accuracy: 0.8684 - val_loss: 0.3046 - val_accuracy: 0.8763\n",
      "Epoch 22/150\n",
      "96/96 [==============================] - 0s 2ms/step - loss: 0.3424 - accuracy: 0.8648 - val_loss: 0.3061 - val_accuracy: 0.8776\n",
      "Epoch 23/150\n",
      "96/96 [==============================] - 0s 2ms/step - loss: 0.3386 - accuracy: 0.8617 - val_loss: 0.3063 - val_accuracy: 0.8711\n",
      "Epoch 24/150\n",
      "96/96 [==============================] - 0s 2ms/step - loss: 0.3476 - accuracy: 0.8595 - val_loss: 0.3050 - val_accuracy: 0.8763\n",
      "Epoch 25/150\n",
      "96/96 [==============================] - 0s 2ms/step - loss: 0.3114 - accuracy: 0.8749 - val_loss: 0.3044 - val_accuracy: 0.8711\n",
      "Epoch 26/150\n",
      "96/96 [==============================] - 0s 2ms/step - loss: 0.3314 - accuracy: 0.8649 - val_loss: 0.3039 - val_accuracy: 0.8789\n",
      "Epoch 27/150\n",
      "96/96 [==============================] - 0s 1ms/step - loss: 0.3340 - accuracy: 0.8649 - val_loss: 0.3044 - val_accuracy: 0.8724\n",
      "Epoch 28/150\n",
      "96/96 [==============================] - 0s 2ms/step - loss: 0.3331 - accuracy: 0.8710 - val_loss: 0.3049 - val_accuracy: 0.8789\n",
      "Epoch 29/150\n",
      "96/96 [==============================] - 0s 2ms/step - loss: 0.3180 - accuracy: 0.8781 - val_loss: 0.3031 - val_accuracy: 0.8711\n",
      "Epoch 30/150\n",
      "96/96 [==============================] - 0s 2ms/step - loss: 0.3360 - accuracy: 0.8674 - val_loss: 0.3084 - val_accuracy: 0.8763\n",
      "Epoch 31/150\n",
      "96/96 [==============================] - 0s 2ms/step - loss: 0.3211 - accuracy: 0.8678 - val_loss: 0.3038 - val_accuracy: 0.8776\n",
      "Epoch 32/150\n",
      "96/96 [==============================] - 0s 2ms/step - loss: 0.3229 - accuracy: 0.8679 - val_loss: 0.3020 - val_accuracy: 0.8737\n",
      "Epoch 33/150\n",
      "96/96 [==============================] - 0s 2ms/step - loss: 0.3351 - accuracy: 0.8675 - val_loss: 0.3013 - val_accuracy: 0.8750\n",
      "Epoch 34/150\n",
      "96/96 [==============================] - 0s 2ms/step - loss: 0.3525 - accuracy: 0.8581 - val_loss: 0.3063 - val_accuracy: 0.8763\n",
      "Epoch 35/150\n",
      "96/96 [==============================] - 0s 2ms/step - loss: 0.3461 - accuracy: 0.8626 - val_loss: 0.3016 - val_accuracy: 0.8763\n",
      "Epoch 36/150\n",
      "96/96 [==============================] - 0s 2ms/step - loss: 0.3251 - accuracy: 0.8633 - val_loss: 0.3026 - val_accuracy: 0.8815\n",
      "Epoch 37/150\n",
      "96/96 [==============================] - 0s 2ms/step - loss: 0.3169 - accuracy: 0.8776 - val_loss: 0.3148 - val_accuracy: 0.8763\n",
      "Epoch 38/150\n",
      "96/96 [==============================] - 0s 2ms/step - loss: 0.3297 - accuracy: 0.8699 - val_loss: 0.3028 - val_accuracy: 0.8802\n",
      "Epoch 39/150\n",
      "96/96 [==============================] - 0s 2ms/step - loss: 0.3162 - accuracy: 0.8736 - val_loss: 0.2996 - val_accuracy: 0.8789\n",
      "Epoch 40/150\n",
      "96/96 [==============================] - 0s 2ms/step - loss: 0.3193 - accuracy: 0.8729 - val_loss: 0.3005 - val_accuracy: 0.8763\n",
      "Epoch 41/150\n",
      "96/96 [==============================] - 0s 2ms/step - loss: 0.3017 - accuracy: 0.8856 - val_loss: 0.3018 - val_accuracy: 0.8763\n",
      "Epoch 42/150\n",
      "96/96 [==============================] - 0s 2ms/step - loss: 0.3154 - accuracy: 0.8793 - val_loss: 0.3060 - val_accuracy: 0.8776\n",
      "Epoch 43/150\n",
      "96/96 [==============================] - 0s 2ms/step - loss: 0.3002 - accuracy: 0.8860 - val_loss: 0.3001 - val_accuracy: 0.8802\n",
      "Epoch 44/150\n",
      "96/96 [==============================] - 0s 2ms/step - loss: 0.3197 - accuracy: 0.8707 - val_loss: 0.3033 - val_accuracy: 0.8776\n",
      "Epoch 45/150\n",
      "96/96 [==============================] - 0s 1ms/step - loss: 0.3197 - accuracy: 0.8713 - val_loss: 0.2984 - val_accuracy: 0.8776\n",
      "Epoch 46/150\n",
      "96/96 [==============================] - 0s 1ms/step - loss: 0.3267 - accuracy: 0.8724 - val_loss: 0.2980 - val_accuracy: 0.8776\n",
      "Epoch 47/150\n",
      "96/96 [==============================] - 0s 2ms/step - loss: 0.3111 - accuracy: 0.8840 - val_loss: 0.3005 - val_accuracy: 0.8763\n",
      "Epoch 48/150\n",
      "96/96 [==============================] - 0s 2ms/step - loss: 0.3098 - accuracy: 0.8764 - val_loss: 0.3001 - val_accuracy: 0.8789\n",
      "Epoch 49/150\n",
      "96/96 [==============================] - 0s 2ms/step - loss: 0.3085 - accuracy: 0.8779 - val_loss: 0.2994 - val_accuracy: 0.8776\n",
      "Epoch 50/150\n",
      "96/96 [==============================] - 0s 2ms/step - loss: 0.3067 - accuracy: 0.8784 - val_loss: 0.2988 - val_accuracy: 0.8750\n",
      "Epoch 51/150\n",
      "96/96 [==============================] - 0s 1ms/step - loss: 0.3299 - accuracy: 0.8635 - val_loss: 0.3032 - val_accuracy: 0.8776\n"
     ]
    }
   ],
   "source": [
    "callback = tf.keras.callbacks.EarlyStopping(monitor='loss', min_delta=0.001, patience=10)\n",
    "\n",
    "history = model.fit(normed_train, y_train, epochs=150, batch_size=32, validation_split=0.2, callbacks=[callback])"
   ]
  },
  {
   "cell_type": "code",
   "execution_count": 108,
   "metadata": {
    "tags": []
   },
   "outputs": [
    {
     "name": "stdout",
     "output_type": "stream",
     "text": [
      "30/30 [==============================] - 0s 689us/step - loss: 0.3145 - accuracy: 0.8760\n"
     ]
    }
   ],
   "source": [
    "score = model.evaluate(normed_test, y_test)\n",
    "\n",
    "# test_predictions = model.predict(normed_test).flatten()\n",
    "# predictions = [int(round(value)) for value in test_predictions]\n",
    "# print(predictions)"
   ]
  },
  {
   "cell_type": "code",
   "execution_count": 109,
   "metadata": {},
   "outputs": [
    {
     "data": {
      "text/plain": [
       "<matplotlib.axes._subplots.AxesSubplot at 0x2a242cf5388>"
      ]
     },
     "execution_count": 109,
     "metadata": {},
     "output_type": "execute_result"
    },
    {
     "data": {
      "image/png": "[encoded data removed]",
      "text/plain": [
       "<Figure size 432x288 with 1 Axes>"
      ]
     },
     "metadata": {
      "needs_background": "light"
     },
     "output_type": "display_data"
    }
   ],
   "source": [
    "pd.DataFrame(history.history).plot()"
   ]
  },
  {
   "cell_type": "code",
   "execution_count": 110,
   "metadata": {},
   "outputs": [],
   "source": [
    "model.save(\"model1.h5\")"
   ]
  },
  {
   "cell_type": "code",
   "execution_count": 111,
   "metadata": {},
   "outputs": [],
   "source": [
    "pickle.dump(mm,open(\"scale.pkl\",\"wb\"))"
   ]
  },
  {
   "cell_type": "markdown",
   "metadata": {},
   "source": [
    "0 is safe<br>1 is phishing"
   ]
  }
 ],
 "metadata": {
  "kernelspec": {
   "display_name": "Python 3",
   "language": "python",
   "name": "python3"
  },
  "language_info": {
   "codemirror_mode": {
    "name": "ipython",
    "version": 3
   },
   "file_extension": ".py",
   "mimetype": "text/x-python",
   "name": "python",
   "nbconvert_exporter": "python",
   "pygments_lexer": "ipython3",
   "version": "3.7.6"
  }
 },
 "nbformat": 4,
 "nbformat_minor": 2
}
